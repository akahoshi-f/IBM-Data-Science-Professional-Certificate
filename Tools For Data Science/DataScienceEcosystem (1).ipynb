{
 "cells": [
  {
   "cell_type": "markdown",
   "id": "46fc73eb-8e2d-49b7-9bf6-ace6a9ecfa72",
   "metadata": {},
   "source": [
    "# Data Science Tools and Ecosystem\n"
   ]
  },
  {
   "cell_type": "markdown",
   "id": "15e314fc-0227-4f3d-a7b2-ad3f2df1e4f9",
   "metadata": {},
   "source": [
    "In this notebook, Data Science Tools and Ecosystem are summarized."
   ]
  },
  {
   "cell_type": "markdown",
   "id": "4663c8df-f974-4fc7-9cf8-a2cc96672105",
   "metadata": {},
   "source": [
    "Some of the popular languages that Data Scientists use are:\n",
    "\n",
    "1. Python - For data analysis and machine learning\n",
    "2. R - For statistical computing and data visualization\n",
    "3. SQL - For querying and managing databases"
   ]
  },
  {
   "cell_type": "markdown",
   "id": "b6835911-5a3c-42b1-a8cb-7be6672298d0",
   "metadata": {},
   "source": [
    "Some of the commonly used libraries used by Data Scientists include:\n",
    "\n",
    "1. Pandas - For data manipulation and analysis\n",
    "2. NumPy - For numerical computing\n",
    "3. Scikit-learn - For Machine learning"
   ]
  },
  {
   "cell_type": "markdown",
   "id": "f3e094a8-1579-48ee-b555-81061e81ac4e",
   "metadata": {},
   "source": [
    "| Data Science Tools  |\n",
    "|---------------------|\n",
    "| Jupyter Notebook    |\n",
    "| RStudio             |\n",
    "| Apache Zeppelin     |"
   ]
  },
  {
   "cell_type": "markdown",
   "id": "01fa3ca8-64b2-45bb-ab20-7d1853ff89ae",
   "metadata": {},
   "source": [
    "### Below are a few examples of evaluating arithmetic expressions in Python."
   ]
  },
  {
   "cell_type": "code",
   "execution_count": 3,
   "id": "d3786cdf-d2e5-4c25-8142-a891dd21a6d4",
   "metadata": {},
   "outputs": [
    {
     "data": {
      "text/plain": [
       "17"
      ]
     },
     "execution_count": 3,
     "metadata": {},
     "output_type": "execute_result"
    }
   ],
   "source": [
    "# This is a simple arithmetic expression to multiply then add integers\n",
    "(3 * 4) + 5"
   ]
  },
  {
   "cell_type": "code",
   "execution_count": 2,
   "id": "980db5c5-6cf2-48cf-b1c9-f38c6640fe3b",
   "metadata": {},
   "outputs": [
    {
     "data": {
      "text/plain": [
       "3.3333333333333335"
      ]
     },
     "execution_count": 2,
     "metadata": {},
     "output_type": "execute_result"
    }
   ],
   "source": [
    "# This will convert 200 minutes to hours by dividing by 60\n",
    "minutes = 200\n",
    "hours = minutes / 60\n",
    "hours"
   ]
  },
  {
   "cell_type": "markdown",
   "id": "111708ba-e82e-479f-9982-17ac60e6f1c3",
   "metadata": {},
   "source": [
    "**Objectives:**\n",
    "\n",
    "- List popular languages for Data Science\n",
    "- List used libraries for Data Science\n",
    "- Show how to create operations in Python\n",
    "- Show how to convert minutes to hours in Python"
   ]
  },
  {
   "cell_type": "markdown",
   "id": "11570d25-5a67-465a-bc52-0ce1ff67fc26",
   "metadata": {},
   "source": [
    "## Author\n",
    "Felipe Akahoshi de Sousa"
   ]
  }
 ],
 "metadata": {
  "kernelspec": {
   "display_name": "Python 3 (ipykernel)",
   "language": "python",
   "name": "python3"
  },
  "language_info": {
   "codemirror_mode": {
    "name": "ipython",
    "version": 3
   },
   "file_extension": ".py",
   "mimetype": "text/x-python",
   "name": "python",
   "nbconvert_exporter": "python",
   "pygments_lexer": "ipython3",
   "version": "3.12.8"
  }
 },
 "nbformat": 4,
 "nbformat_minor": 5
}
